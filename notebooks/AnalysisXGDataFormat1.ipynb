{
 "cells": [
  {
   "cell_type": "code",
   "execution_count": 1,
   "metadata": {},
   "outputs": [
    {
     "name": "stderr",
     "output_type": "stream",
     "text": [
      "C:\\Users\\daher\\AppData\\Local\\Temp\\ipykernel_12824\\3578034257.py:43: FutureWarning: A value is trying to be set on a copy of a DataFrame or Series through chained assignment using an inplace method.\n",
      "The behavior will change in pandas 3.0. This inplace method will never work because the intermediate object on which we are setting values always behaves as a copy.\n",
      "\n",
      "For example, when doing 'df[col].method(value, inplace=True)', try using 'df.method({col: value}, inplace=True)' or df[col] = df[col].method(value) instead, to perform the operation inplace on the original object.\n",
      "\n",
      "\n",
      "  info_usuarios['age_range'].fillna(0, inplace=True)\n",
      "C:\\Users\\daher\\AppData\\Local\\Temp\\ipykernel_12824\\3578034257.py:44: FutureWarning: A value is trying to be set on a copy of a DataFrame or Series through chained assignment using an inplace method.\n",
      "The behavior will change in pandas 3.0. This inplace method will never work because the intermediate object on which we are setting values always behaves as a copy.\n",
      "\n",
      "For example, when doing 'df[col].method(value, inplace=True)', try using 'df.method({col: value}, inplace=True)' or df[col] = df[col].method(value) instead, to perform the operation inplace on the original object.\n",
      "\n",
      "\n",
      "  info_usuarios['gender'].fillna(2, inplace=True)\n"
     ]
    }
   ],
   "source": [
    "# Importar librerías necesarias\n",
    "import pandas as pd\n",
    "import numpy as np\n",
    "from sklearn.model_selection import train_test_split\n",
    "from sklearn.preprocessing import OneHotEncoder\n",
    "from xgboost import XGBClassifier\n",
    "\n",
    "# Configuración de rutas de datos\n",
    "ruta_base = 'data/data_format1/data_format1/'\n",
    "ruta_train = ruta_base + 'train_format1.csv'\n",
    "ruta_test = ruta_base + 'test_format1.csv'\n",
    "ruta_info_usuarios = ruta_base + 'user_info_format1.csv'\n",
    "ruta_log_usuarios = ruta_base + 'user_log_format1.csv'\n",
    "\n",
    "# Cargar datos\n",
    "datos_train = pd.read_csv(ruta_train)\n",
    "datos_test = pd.read_csv(ruta_test)\n",
    "info_usuarios = pd.read_csv(ruta_info_usuarios)\n",
    "log_usuarios = pd.read_csv(ruta_log_usuarios)\n",
    "\n",
    "# Fusionar y marcar datos de entrenamiento y prueba\n",
    "datos_train['tipo'] = 'train'\n",
    "datos_test['tipo'] = 'test'\n",
    "conjunto_datos = pd.concat([datos_train, datos_test.drop('prob', axis=1)], ignore_index=True)\n",
    "\n",
    "# Optimizar tipos de datos para reducir uso de memoria\n",
    "log_usuarios = log_usuarios.astype({\n",
    "    'user_id': 'int32',\n",
    "    'item_id': 'int32',\n",
    "    'cat_id': 'int16',\n",
    "    'seller_id': 'int16'\n",
    "})\n",
    "log_usuarios.rename(columns={'seller_id': 'merchant_id'}, inplace=True)\n",
    "log_usuarios['brand_id'] = log_usuarios['brand_id'].fillna(0).astype('int16')\n",
    "log_usuarios['action_type'] = log_usuarios['action_type'].astype('int8')\n",
    "\n",
    "# Transformar fechas en 'time_stamp' a días transcurridos desde la fecha mínima\n",
    "fecha_base = pd.to_datetime(log_usuarios['time_stamp'], format='%m%d').min()\n",
    "log_usuarios['time_stamp'] = (pd.to_datetime(log_usuarios['time_stamp'], format='%m%d') - fecha_base).dt.days\n",
    "log_usuarios['time_stamp'] = log_usuarios['time_stamp'].astype('int16')\n",
    "\n",
    "# Imputar valores nulos y ajustar tipos en info_usuarios\n",
    "info_usuarios['age_range'].fillna(0, inplace=True)\n",
    "info_usuarios['gender'].fillna(2, inplace=True)\n",
    "info_usuarios = info_usuarios.astype({'age_range': 'int8', 'gender': 'int8'})\n",
    "\n",
    "# Codificación de variable categórica 'age_range'\n",
    "encoder = OneHotEncoder(sparse_output=False)\n",
    "edad_codificada = encoder.fit_transform(info_usuarios[['age_range']])\n",
    "\n",
    "# Crear un DataFrame de las columnas codificadas con nombres personalizados para evitar problemas de nombres\n",
    "nombres_columnas = [f\"age_{int(cat)}\" for cat in encoder.categories_[0]]\n",
    "edad_codificada_df = pd.DataFrame(edad_codificada, columns=nombres_columnas)\n",
    "\n",
    "# Alinear el índice de 'edad_codificada_df' con 'info_usuarios' antes de concatenar\n",
    "edad_codificada_df.index = info_usuarios.index\n",
    "\n",
    "# Concatenar las columnas codificadas al DataFrame de info_usuarios\n",
    "info_usuarios = pd.concat([info_usuarios, edad_codificada_df], axis=1)"
   ]
  },
  {
   "cell_type": "code",
   "execution_count": 2,
   "metadata": {
    "vscode": {
     "languageId": "ruby"
    }
   },
   "outputs": [],
   "source": [
    "# Agrupar por usuario y calcular características de interacción\n",
    "user_agg = log_usuarios.groupby('user_id').agg(\n",
    "    items_distintos=('item_id', 'nunique'),\n",
    "    categorias_distintas=('cat_id', 'nunique'),\n",
    "    merchants_distintos=('merchant_id', 'nunique'),\n",
    "    marcas_distintas=('brand_id', 'nunique'),\n",
    "    dias_distintos=('time_stamp', 'nunique'),\n",
    "    dia_max=('time_stamp', 'max'),\n",
    "    dia_min=('time_stamp', 'min'),\n",
    "    clicks=('action_type', lambda x: (x == 0).sum()),\n",
    "    carritos=('action_type', lambda x: (x == 1).sum()),\n",
    "    compras=('action_type', lambda x: (x == 2).sum()),\n",
    "    favoritos=('action_type', lambda x: (x == 3).sum())\n",
    ").reset_index()"
   ]
  },
  {
   "cell_type": "code",
   "execution_count": 6,
   "metadata": {
    "vscode": {
     "languageId": "ruby"
    }
   },
   "outputs": [],
   "source": [
    "# Crear ratios de interacción y otras métricas\n",
    "user_agg['rango_dias'] = user_agg['dia_max'] - user_agg['dia_min']\n",
    "user_agg['ratio_clicks'] = user_agg['clicks'] / (user_agg['clicks'] + user_agg['carritos'] + user_agg['compras'] + user_agg['favoritos'] + 1e-10)\n",
    "user_agg['ratio_compras'] = user_agg['compras'] / (user_agg['clicks'] + user_agg['carritos'] + user_agg['compras'] + user_agg['favoritos'] + 1e-10)\n",
    "\n",
    "# Integrar información de usuarios y log al conjunto de datos principal\n",
    "conjunto_datos = conjunto_datos.merge(info_usuarios, on='user_id', how='left').merge(user_agg, on='user_id', how='left')\n",
    "\n",
    "# Separar los datos de entrenamiento y prueba\n",
    "datos_entrenamiento = conjunto_datos[conjunto_datos['tipo'] == 'train'].drop(['tipo'], axis=1)\n",
    "datos_prueba = conjunto_datos[conjunto_datos['tipo'] == 'test'].drop(['tipo'], axis=1)\n"
   ]
  }
 ],
 "metadata": {
  "kernelspec": {
   "display_name": "venv",
   "language": "python",
   "name": "python3"
  },
  "language_info": {
   "codemirror_mode": {
    "name": "ipython",
    "version": 3
   },
   "file_extension": ".py",
   "mimetype": "text/x-python",
   "name": "python",
   "nbconvert_exporter": "python",
   "pygments_lexer": "ipython3",
   "version": "3.11.8"
  }
 },
 "nbformat": 4,
 "nbformat_minor": 2
}
